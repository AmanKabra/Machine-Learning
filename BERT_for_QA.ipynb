{
  "nbformat": 4,
  "nbformat_minor": 0,
  "metadata": {
    "colab": {
      "name": "Final_AK_BERT for QA.ipynb",
      "provenance": [],
      "collapsed_sections": [],
      "authorship_tag": "ABX9TyNJnsbCrixrWD39cfHs4VCR",
      "include_colab_link": true
    },
    "kernelspec": {
      "name": "python3",
      "display_name": "Python 3"
    },
    "language_info": {
      "name": "python"
    },
    "accelerator": "GPU"
  },
  "cells": [
    {
      "cell_type": "markdown",
      "metadata": {
        "id": "view-in-github",
        "colab_type": "text"
      },
      "source": [
        "<a href=\"https://colab.research.google.com/github/AmanKabra/Machine-Learning/blob/main/BERT_for_QA.ipynb\" target=\"_parent\"><img src=\"https://colab.research.google.com/assets/colab-badge.svg\" alt=\"Open In Colab\"/></a>"
      ]
    },
    {
      "cell_type": "code",
      "source": [
        "!pip install simpletransformers"
      ],
      "metadata": {
        "id": "KqQyBwE-AZdG"
      },
      "execution_count": null,
      "outputs": []
    },
    {
      "cell_type": "code",
      "source": [
        "from simpletransformers.question_answering import QuestionAnsweringModel, QuestionAnsweringArgs\n",
        "model = QuestionAnsweringModel(model_name=\"bert-large-uncased-whole-word-masking-finetuned-squad\",model_type=\"bert\")"
      ],
      "metadata": {
        "id": "C2Ld82oPAcU1"
      },
      "execution_count": null,
      "outputs": []
    },
    {
      "cell_type": "code",
      "source": [
        "context_text = \"After being relatively inactive since 2014, the Hunga Tonga volcano erupted on 20 December 2021, sending particulates into the stratosphere.\\\n",
        "A large plume of ash was visible from Nukuʻalofa, the capital city of Tonga, about 70 km (45 mi) from the volcano. The Volcanic Ash Advisory Center (VAAC) in Wellington, New Zealand, issued an advisory notice to airlines. \\\n",
        "The eruption was heard more than 2,000 kilometres (1,200 mi) away in New Zealand, where the sound arrived two hours later.\\\n",
        "This initial eruption ended at 02:00 on 21 December 2021. Volcanic activity continued, and on 25 December 2021, the island had increased in size on satellite imagery.\\\n",
        "As activity on the island decreased, it was declared dormant on 11 January 2022.\"\n",
        "\n",
        "predictions, raw_outputs = model.predict(\n",
        "    [\n",
        "        {\n",
        "            \"context\": context_text,\n",
        "            \"qas\": [\n",
        "                {\n",
        "                    \"question\": \"When did the initial eruption end?\",\n",
        "                    \"id\": \"0\",\n",
        "                }\n",
        "            ],\n",
        "        }\n",
        "    ]\n",
        ")"
      ],
      "metadata": {
        "id": "m121tPP1JQ-2"
      },
      "execution_count": null,
      "outputs": []
    },
    {
      "cell_type": "code",
      "source": [
        "predictions[0]"
      ],
      "metadata": {
        "colab": {
          "base_uri": "https://localhost:8080/",
          "height": 0
        },
        "id": "QQ4_sZ0uLfqe",
        "outputId": "b80e28b9-45c8-4922-e39b-97397a574484"
      },
      "execution_count": 6,
      "outputs": [
        {
          "output_type": "execute_result",
          "data": {
            "text/plain": [
              "{'answer': ['initial eruption ended at 02:00 on 21 December 2021.',\n",
              "  '02:00 on 21 December 2021.',\n",
              "  'initial eruption ended at 02:00',\n",
              "  '02:00',\n",
              "  '21 December 2021.',\n",
              "  'at 02:00 on 21 December 2021.',\n",
              "  'at 02:00',\n",
              "  'ended at 02:00 on 21 December 2021.',\n",
              "  'eruption ended at 02:00 on 21 December 2021.',\n",
              "  'ended at 02:00',\n",
              "  'eruption ended at 02:00',\n",
              "  'later.This initial eruption ended at 02:00 on 21 December 2021.',\n",
              "  'later.This initial eruption ended at 02:00',\n",
              "  '2021, sending particulates into the stratosphere.A large plume of ash was visible from Nukuʻalofa, the capital city of Tonga, about 70 km (45 mi) from the volcano. The Volcanic Ash Advisory Center (VAAC) in Wellington, New Zealand, issued an advisory notice to airlines. The eruption was heard more than 2,000 kilometres (1,200 mi) away in New Zealand, where the sound arrived two hours later.This initial eruption ended at 02:00',\n",
              "  'initial eruption ended',\n",
              "  '2021.',\n",
              "  'on 21 December 2021.',\n",
              "  '2021',\n",
              "  '20 December 2021, sending particulates into the stratosphere.A large plume of ash was visible from Nukuʻalofa, the capital city of Tonga, about 70 km (45 mi) from the volcano. The Volcanic Ash Advisory Center (VAAC) in Wellington, New Zealand, issued an advisory notice to airlines. The eruption was heard more than 2,000 kilometres (1,200 mi) away in New Zealand, where the sound arrived two hours later.This initial eruption ended at 02:00',\n",
              "  'eruption was heard more than 2,000 kilometres (1,200 mi) away in New Zealand, where the sound arrived two hours later.This initial eruption ended at 02:00 on 21 December 2021.'],\n",
              " 'id': '0'}"
            ]
          },
          "metadata": {},
          "execution_count": 6
        }
      ]
    },
    {
      "cell_type": "code",
      "source": [
        "predictions[0][\"answer\"][0]"
      ],
      "metadata": {
        "colab": {
          "base_uri": "https://localhost:8080/",
          "height": 35
        },
        "id": "nHxVQOmdLCrA",
        "outputId": "c1c3b219-7ab2-4467-d6b9-b1bca0516bcf"
      },
      "execution_count": 9,
      "outputs": [
        {
          "output_type": "execute_result",
          "data": {
            "application/vnd.google.colaboratory.intrinsic+json": {
              "type": "string"
            },
            "text/plain": [
              "'initial eruption ended at 02:00 on 21 December 2021.'"
            ]
          },
          "metadata": {},
          "execution_count": 9
        }
      ]
    }
  ]
}